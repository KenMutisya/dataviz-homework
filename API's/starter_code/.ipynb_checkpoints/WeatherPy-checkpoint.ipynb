{
 "cells": [
  {
   "cell_type": "markdown",
   "metadata": {},
   "source": [
    "# WeatherPy\n",
    "----\n",
    "\n",
    "### Analysis\n",
    "* As expected, the weather becomes significantly warmer as one approaches the equator (0 Deg. Latitude). More interestingly, however, is the fact that the southern hemisphere tends to be warmer this time of year than the northern hemisphere. This may be due to the tilt of the earth.\n",
    "* There is no strong relationship between latitude and cloudiness. However, it is interesting to see that a strong band of cities sits at 0, 80, and 100% cloudiness.\n",
    "* There is no strong relationship between latitude and wind speed. However, in northern hemispheres there is a flurry of cities with over 20 mph of wind.\n",
    "\n",
    "---\n",
    "\n",
    "#### Note\n",
    "* Instructions have been included for each segment. You do not have to follow them exactly, but they are included to help you think through the steps."
   ]
  },
  {
   "cell_type": "code",
   "execution_count": 51,
   "metadata": {
    "scrolled": true
   },
   "outputs": [],
   "source": [
    "# Dependencies and Setup\n",
    "import matplotlib.pyplot as plt\n",
    "import pandas as pd\n",
    "import numpy as np\n",
    "import requests\n",
    "import time\n",
    "\n",
    "# Import API key\n",
    "from api_keys import api_key\n",
    "\n",
    "# Incorporated citipy to determine city based on latitude and longitude\n",
    "from citipy import citipy\n",
    "\n",
    "# Output File (CSV)\n",
    "output_data_file = \"output_data/cities.csv\"\n",
    "\n",
    "# Range of latitudes and longitudes\n",
    "lat_range = (-90, 90)\n",
    "lng_range = (-180, 180)"
   ]
  },
  {
   "cell_type": "markdown",
   "metadata": {},
   "source": [
    "## Generate Cities List"
   ]
  },
  {
   "cell_type": "code",
   "execution_count": 52,
   "metadata": {},
   "outputs": [
    {
     "data": {
      "text/plain": [
       "622"
      ]
     },
     "execution_count": 52,
     "metadata": {},
     "output_type": "execute_result"
    }
   ],
   "source": [
    "# List for holding lat_lngs and cities\n",
    "lat_lngs = []\n",
    "cities = []\n",
    "\n",
    "# Create a set of random lat and lng combinations\n",
    "lats = np.random.uniform(low=-90.000, high=90.000, size=1500)\n",
    "lngs = np.random.uniform(low=-180.000, high=180.000, size=1500)\n",
    "lat_lngs = zip(lats, lngs)\n",
    "\n",
    "# Identify nearest city for each lat, lng combination\n",
    "for lat_lng in lat_lngs:\n",
    "    city = citipy.nearest_city(lat_lng[0], lat_lng[1]).city_name\n",
    "    \n",
    "    # If the city is unique, then add it to a our cities list\n",
    "    if city not in cities:\n",
    "        cities.append(city)\n",
    "\n",
    "# Print the city count to confirm sufficient count\n",
    "len(cities)"
   ]
  },
  {
   "cell_type": "markdown",
   "metadata": {},
   "source": [
    "### Perform API Calls\n",
    "* Perform a weather check on each city using a series of successive API calls.\n",
    "* Include a print log of each city as it'sbeing processed (with the city number and city name).\n"
   ]
  },
  {
   "cell_type": "code",
   "execution_count": 53,
   "metadata": {},
   "outputs": [],
   "source": [
    "city_data_pd = pd.DataFrame({\"City\": [\"\"], \"Cloudiness\": [\"\"], \"Country\": [\"\"],\n",
    "                            \"Date\": [\"\"], \"Humidity\": [\"\"], \"Lat\": [\"\"], \"Lng\": [\"\"],\n",
    "                            \"Max Temp\": [\"\"], \"Wind Speed\": [\"\"]})"
   ]
  },
  {
   "cell_type": "code",
   "execution_count": 54,
   "metadata": {},
   "outputs": [
    {
     "name": "stdout",
     "output_type": "stream",
     "text": [
      "Continuing with the code...\n"
     ]
    }
   ],
   "source": [
    "units = \"Imperial\"\n",
    "query_url_list = []\n",
    "weather_data = []\n",
    "\n",
    "try:\n",
    "    for city in cities:\n",
    "        url = \"http://api.openweathermap.org/data/2.5/weather?\"\n",
    "        query_url = f\"{url}&appid={api_key}&q={city}&units={units}\"\n",
    "        \n",
    "        weather_response = requests.get(query_url)\n",
    "        weather_json = weather_response.json()\n",
    "        \n",
    "        cloudiness = weather_json[\"clouds\"][\"all\"]\n",
    "        country = weather_json[\"sys\"][\"country\"]\n",
    "        date = weather_json[\"dt\"]\n",
    "        humidity = weather_json[\"main\"][\"humidity\"]\n",
    "        lat = weather_json[\"coord\"][\"lat\"]\n",
    "        lng = weather_json[\"coord\"][\"lon\"]\n",
    "        city = weather_json[\"name\"]\n",
    "        max_temp = weather_json[\"main\"][\"temp_max\"]\n",
    "        wind_speed = weather_json[\"wind\"][\"speed\"]\n",
    "        \n",
    "        city_data_pd = city_data_pd.append({'City' : city, 'Cloudiness' : cloudiness, \n",
    "                                           'Country': country, 'Date': date, 'Humidity': humidity,\n",
    "                                           'Lat' : lat, 'Lng' : lng, 'Max Temp' : max_temp,\n",
    "                                           'Wind Speed' : wind_speed}, ignore_index=True)\n",
    "except KeyError:\n",
    "    print(\"Continuing with the code...\")"
   ]
  },
  {
   "cell_type": "code",
   "execution_count": 55,
   "metadata": {},
   "outputs": [
    {
     "data": {
      "text/html": [
       "<div>\n",
       "<style scoped>\n",
       "    .dataframe tbody tr th:only-of-type {\n",
       "        vertical-align: middle;\n",
       "    }\n",
       "\n",
       "    .dataframe tbody tr th {\n",
       "        vertical-align: top;\n",
       "    }\n",
       "\n",
       "    .dataframe thead th {\n",
       "        text-align: right;\n",
       "    }\n",
       "</style>\n",
       "<table border=\"1\" class=\"dataframe\">\n",
       "  <thead>\n",
       "    <tr style=\"text-align: right;\">\n",
       "      <th></th>\n",
       "      <th>City</th>\n",
       "      <th>Cloudiness</th>\n",
       "      <th>Country</th>\n",
       "      <th>Date</th>\n",
       "      <th>Humidity</th>\n",
       "      <th>Lat</th>\n",
       "      <th>Lng</th>\n",
       "      <th>Max Temp</th>\n",
       "      <th>Wind Speed</th>\n",
       "    </tr>\n",
       "  </thead>\n",
       "  <tbody>\n",
       "    <tr>\n",
       "      <th>0</th>\n",
       "      <td></td>\n",
       "      <td></td>\n",
       "      <td></td>\n",
       "      <td></td>\n",
       "      <td></td>\n",
       "      <td></td>\n",
       "      <td></td>\n",
       "      <td></td>\n",
       "      <td></td>\n",
       "    </tr>\n",
       "    <tr>\n",
       "      <th>1</th>\n",
       "      <td>New Norfolk</td>\n",
       "      <td>0</td>\n",
       "      <td>AU</td>\n",
       "      <td>1551206240</td>\n",
       "      <td>81</td>\n",
       "      <td>-42.78</td>\n",
       "      <td>147.06</td>\n",
       "      <td>46.4</td>\n",
       "      <td>11.41</td>\n",
       "    </tr>\n",
       "    <tr>\n",
       "      <th>2</th>\n",
       "      <td>Ostersund</td>\n",
       "      <td>20</td>\n",
       "      <td>SE</td>\n",
       "      <td>1551205200</td>\n",
       "      <td>69</td>\n",
       "      <td>63.18</td>\n",
       "      <td>14.64</td>\n",
       "      <td>39.99</td>\n",
       "      <td>4.7</td>\n",
       "    </tr>\n",
       "    <tr>\n",
       "      <th>3</th>\n",
       "      <td>Ilulissat</td>\n",
       "      <td>20</td>\n",
       "      <td>GL</td>\n",
       "      <td>1551203400</td>\n",
       "      <td>78</td>\n",
       "      <td>69.22</td>\n",
       "      <td>-51.1</td>\n",
       "      <td>8.6</td>\n",
       "      <td>6.93</td>\n",
       "    </tr>\n",
       "    <tr>\n",
       "      <th>4</th>\n",
       "      <td>Saint George</td>\n",
       "      <td>40</td>\n",
       "      <td>GR</td>\n",
       "      <td>1551205995</td>\n",
       "      <td>61</td>\n",
       "      <td>39.45</td>\n",
       "      <td>22.34</td>\n",
       "      <td>50</td>\n",
       "      <td>1.7</td>\n",
       "    </tr>\n",
       "    <tr>\n",
       "      <th>5</th>\n",
       "      <td>Punta Arenas</td>\n",
       "      <td>20</td>\n",
       "      <td>CL</td>\n",
       "      <td>1551205991</td>\n",
       "      <td>54</td>\n",
       "      <td>-53.16</td>\n",
       "      <td>-70.91</td>\n",
       "      <td>53.6</td>\n",
       "      <td>11.41</td>\n",
       "    </tr>\n",
       "    <tr>\n",
       "      <th>6</th>\n",
       "      <td>Havre-Saint-Pierre</td>\n",
       "      <td>75</td>\n",
       "      <td>CA</td>\n",
       "      <td>1551204060</td>\n",
       "      <td>85</td>\n",
       "      <td>50.23</td>\n",
       "      <td>-63.6</td>\n",
       "      <td>23</td>\n",
       "      <td>16.11</td>\n",
       "    </tr>\n",
       "    <tr>\n",
       "      <th>7</th>\n",
       "      <td>Makakilo City</td>\n",
       "      <td>90</td>\n",
       "      <td>US</td>\n",
       "      <td>1551206150</td>\n",
       "      <td>68</td>\n",
       "      <td>21.35</td>\n",
       "      <td>-158.09</td>\n",
       "      <td>70</td>\n",
       "      <td>5.82</td>\n",
       "    </tr>\n",
       "    <tr>\n",
       "      <th>8</th>\n",
       "      <td>Mar del Plata</td>\n",
       "      <td>76</td>\n",
       "      <td>AR</td>\n",
       "      <td>1551206197</td>\n",
       "      <td>35</td>\n",
       "      <td>-46.43</td>\n",
       "      <td>-67.52</td>\n",
       "      <td>73.27</td>\n",
       "      <td>16.98</td>\n",
       "    </tr>\n",
       "    <tr>\n",
       "      <th>9</th>\n",
       "      <td>East London</td>\n",
       "      <td>40</td>\n",
       "      <td>ZA</td>\n",
       "      <td>1551204000</td>\n",
       "      <td>77</td>\n",
       "      <td>-33.02</td>\n",
       "      <td>27.91</td>\n",
       "      <td>69.8</td>\n",
       "      <td>17.22</td>\n",
       "    </tr>\n",
       "    <tr>\n",
       "      <th>10</th>\n",
       "      <td>Fort Nelson</td>\n",
       "      <td>40</td>\n",
       "      <td>CA</td>\n",
       "      <td>1551204000</td>\n",
       "      <td>84</td>\n",
       "      <td>58.81</td>\n",
       "      <td>-122.69</td>\n",
       "      <td>8.6</td>\n",
       "      <td>5.82</td>\n",
       "    </tr>\n",
       "    <tr>\n",
       "      <th>11</th>\n",
       "      <td>Chernyshevskiy</td>\n",
       "      <td>80</td>\n",
       "      <td>RU</td>\n",
       "      <td>1551206247</td>\n",
       "      <td>68</td>\n",
       "      <td>63.01</td>\n",
       "      <td>112.47</td>\n",
       "      <td>13.11</td>\n",
       "      <td>8.75</td>\n",
       "    </tr>\n",
       "    <tr>\n",
       "      <th>12</th>\n",
       "      <td>Dikson</td>\n",
       "      <td>36</td>\n",
       "      <td>RU</td>\n",
       "      <td>1551206247</td>\n",
       "      <td>82</td>\n",
       "      <td>73.51</td>\n",
       "      <td>80.55</td>\n",
       "      <td>-5.89</td>\n",
       "      <td>36.22</td>\n",
       "    </tr>\n",
       "    <tr>\n",
       "      <th>13</th>\n",
       "      <td>Esperance</td>\n",
       "      <td>40</td>\n",
       "      <td>TT</td>\n",
       "      <td>1551205922</td>\n",
       "      <td>55</td>\n",
       "      <td>10.24</td>\n",
       "      <td>-61.45</td>\n",
       "      <td>86</td>\n",
       "      <td>14.99</td>\n",
       "    </tr>\n",
       "    <tr>\n",
       "      <th>14</th>\n",
       "      <td>Ushuaia</td>\n",
       "      <td>40</td>\n",
       "      <td>AR</td>\n",
       "      <td>1551204000</td>\n",
       "      <td>70</td>\n",
       "      <td>-54.81</td>\n",
       "      <td>-68.31</td>\n",
       "      <td>46.4</td>\n",
       "      <td>38.03</td>\n",
       "    </tr>\n",
       "  </tbody>\n",
       "</table>\n",
       "</div>"
      ],
      "text/plain": [
       "                  City Cloudiness Country        Date Humidity    Lat     Lng  \\\n",
       "0                                                                               \n",
       "1          New Norfolk          0      AU  1551206240       81 -42.78  147.06   \n",
       "2            Ostersund         20      SE  1551205200       69  63.18   14.64   \n",
       "3            Ilulissat         20      GL  1551203400       78  69.22   -51.1   \n",
       "4         Saint George         40      GR  1551205995       61  39.45   22.34   \n",
       "5         Punta Arenas         20      CL  1551205991       54 -53.16  -70.91   \n",
       "6   Havre-Saint-Pierre         75      CA  1551204060       85  50.23   -63.6   \n",
       "7        Makakilo City         90      US  1551206150       68  21.35 -158.09   \n",
       "8        Mar del Plata         76      AR  1551206197       35 -46.43  -67.52   \n",
       "9          East London         40      ZA  1551204000       77 -33.02   27.91   \n",
       "10         Fort Nelson         40      CA  1551204000       84  58.81 -122.69   \n",
       "11      Chernyshevskiy         80      RU  1551206247       68  63.01  112.47   \n",
       "12              Dikson         36      RU  1551206247       82  73.51   80.55   \n",
       "13           Esperance         40      TT  1551205922       55  10.24  -61.45   \n",
       "14             Ushuaia         40      AR  1551204000       70 -54.81  -68.31   \n",
       "\n",
       "   Max Temp Wind Speed  \n",
       "0                       \n",
       "1      46.4      11.41  \n",
       "2     39.99        4.7  \n",
       "3       8.6       6.93  \n",
       "4        50        1.7  \n",
       "5      53.6      11.41  \n",
       "6        23      16.11  \n",
       "7        70       5.82  \n",
       "8     73.27      16.98  \n",
       "9      69.8      17.22  \n",
       "10      8.6       5.82  \n",
       "11    13.11       8.75  \n",
       "12    -5.89      36.22  \n",
       "13       86      14.99  \n",
       "14     46.4      38.03  "
      ]
     },
     "execution_count": 55,
     "metadata": {},
     "output_type": "execute_result"
    }
   ],
   "source": [
    "city_data_pd"
   ]
  },
  {
   "cell_type": "markdown",
   "metadata": {},
   "source": [
    "### Convert Raw Data to DataFrame\n",
    "* Export the city data into a .csv.\n",
    "* Display the DataFrame"
   ]
  },
  {
   "cell_type": "code",
   "execution_count": 56,
   "metadata": {},
   "outputs": [],
   "source": [
    "city_data_pd.to_csv(output_data_file)"
   ]
  },
  {
   "cell_type": "code",
   "execution_count": null,
   "metadata": {},
   "outputs": [],
   "source": []
  },
  {
   "cell_type": "markdown",
   "metadata": {},
   "source": [
    "### Plotting the Data\n",
    "* Use proper labeling of the plots using plot titles (including date of analysis) and axes labels.\n",
    "* Save the plotted figures as .pngs."
   ]
  },
  {
   "cell_type": "markdown",
   "metadata": {},
   "source": [
    "#### Latitude vs. Temperature Plot"
   ]
  },
  {
   "cell_type": "code",
   "execution_count": null,
   "metadata": {},
   "outputs": [],
   "source": []
  },
  {
   "cell_type": "markdown",
   "metadata": {},
   "source": [
    "#### Latitude vs. Humidity Plot"
   ]
  },
  {
   "cell_type": "code",
   "execution_count": null,
   "metadata": {},
   "outputs": [],
   "source": []
  },
  {
   "cell_type": "markdown",
   "metadata": {},
   "source": [
    "#### Latitude vs. Cloudiness Plot"
   ]
  },
  {
   "cell_type": "code",
   "execution_count": null,
   "metadata": {},
   "outputs": [],
   "source": []
  },
  {
   "cell_type": "markdown",
   "metadata": {},
   "source": [
    "#### Latitude vs. Wind Speed Plot"
   ]
  },
  {
   "cell_type": "code",
   "execution_count": null,
   "metadata": {},
   "outputs": [],
   "source": []
  },
  {
   "cell_type": "code",
   "execution_count": null,
   "metadata": {},
   "outputs": [],
   "source": []
  }
 ],
 "metadata": {
  "anaconda-cloud": {},
  "kernelspec": {
   "display_name": "Python 3",
   "language": "python",
   "name": "python3"
  },
  "language_info": {
   "codemirror_mode": {
    "name": "ipython",
    "version": 3
   },
   "file_extension": ".py",
   "mimetype": "text/x-python",
   "name": "python",
   "nbconvert_exporter": "python",
   "pygments_lexer": "ipython3",
   "version": "3.7.1"
  }
 },
 "nbformat": 4,
 "nbformat_minor": 2
}
